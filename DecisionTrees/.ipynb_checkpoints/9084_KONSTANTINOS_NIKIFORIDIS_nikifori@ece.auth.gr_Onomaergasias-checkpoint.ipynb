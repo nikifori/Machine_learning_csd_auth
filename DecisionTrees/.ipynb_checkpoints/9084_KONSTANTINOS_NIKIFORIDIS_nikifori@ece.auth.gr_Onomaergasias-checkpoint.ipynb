{
 "cells": [
  {
   "cell_type": "markdown",
   "metadata": {},
   "source": [
    "## About iPython Notebooks ##\n",
    "\n",
    "iPython Notebooks are interactive coding environments embedded in a webpage. You will be using iPython notebooks in this class. Make sure you fill in any place that says `# BEGIN CODE HERE #END CODE HERE`. After writing your code, you can run the cell by either pressing \"SHIFT\"+\"ENTER\" or by clicking on \"Run\" (denoted by a play symbol). Before you turn this problem in, make sure everything runs as expected. First, **restart the kernel** (in the menubar, select Kernel$\\rightarrow$Restart) and then **run all cells** (in the menubar, select Cell$\\rightarrow$Run All). \n",
    "\n",
    " **What you need to remember:**\n",
    "\n",
    "- Run your cells using SHIFT+ENTER (or \"Run cell\")\n",
    "- Write code in the designated areas using Python 3 only\n",
    "- Do not modify the code outside of the designated areas\n",
    "- In some cases you will also need to explain the results. There will also be designated areas for that. \n",
    "\n",
    "Fill in your **NAME** and **AEM** below:"
   ]
  },
  {
   "cell_type": "code",
   "execution_count": 1,
   "metadata": {},
   "outputs": [],
   "source": [
    "NAME = \"Konstantinos Nikiforidis\"\n",
    "AEM = \"9084/ece_auth\""
   ]
  },
  {
   "cell_type": "markdown",
   "metadata": {},
   "source": [
    "---"
   ]
  },
  {
   "cell_type": "markdown",
   "metadata": {
    "deletable": false,
    "editable": false,
    "nbgrader": {
     "cell_type": "markdown",
     "checksum": "ce63642cafb413e7903d83d2f2cd3637",
     "grade": false,
     "grade_id": "cell-f62db6dce1ed3f2e",
     "locked": true,
     "schema_version": 3,
     "solution": false,
     "task": false
    }
   },
   "source": [
    "# Assignment 2 - Decision Trees #"
   ]
  },
  {
   "cell_type": "markdown",
   "metadata": {
    "deletable": false,
    "editable": false,
    "nbgrader": {
     "cell_type": "markdown",
     "checksum": "29d61ce286fdb8fd61c7f8e89a9e1339",
     "grade": false,
     "grade_id": "cell-dce2e73cee9a5017",
     "locked": true,
     "schema_version": 3,
     "solution": false,
     "task": false
    }
   },
   "source": [
    "Welcome to your second assignment. This exercise gives you an introduction to [scikit-learn](https://scikit-learn.org/stable/). A simple but efficient machine learning library in Python. It also gives you a wide understanding on how decision trees work. "
   ]
  },
  {
   "cell_type": "markdown",
   "metadata": {
    "deletable": false,
    "editable": false,
    "nbgrader": {
     "cell_type": "markdown",
     "checksum": "50a108d2f1e1a1ee2fde80743c0543fe",
     "grade": false,
     "grade_id": "cell-83ca2b0456fb85db",
     "locked": true,
     "schema_version": 3,
     "solution": false,
     "task": false
    }
   },
   "source": [
    "After this assignment you will:\n",
    "- Be able to use the scikit-learn library and train your own model from scratch.\n",
    "- Be able to train and understand decision trees."
   ]
  },
  {
   "cell_type": "code",
   "execution_count": 2,
   "metadata": {
    "deletable": false,
    "editable": false,
    "nbgrader": {
     "cell_type": "code",
     "checksum": "396c39a0797964c378ebb90cf18a29de",
     "grade": false,
     "grade_id": "cell-2cef6d48eea484d8",
     "locked": true,
     "schema_version": 3,
     "solution": false,
     "task": false
    }
   },
   "outputs": [],
   "source": [
    "# Always run this cell\n",
    "import numpy as np\n",
    "import pandas as pd\n",
    "from sklearn.datasets import load_breast_cancer\n",
    "from sklearn.model_selection import train_test_split\n",
    "from sklearn.tree import DecisionTreeClassifier\n",
    "from sklearn.metrics import f1_score\n",
    "import unittest\n",
    "\n",
    "# USE THIS RANDOM VARIABLE TO PRODUCE THE SAME RESULTS\n",
    "RANDOM_VARIABLE = 42"
   ]
  },
  {
   "cell_type": "markdown",
   "metadata": {},
   "source": [
    "## 1. Scikit-Learn and Decision Trees ##\n",
    "\n",
    "You are going to use the scikit-learn library to train a model for detecting breast cancer using the [Breast cancer wisconsin (diagnostic) dataset](https://scikit-learn.org/stable/datasets/index.html#breast-cancer-wisconsin-diagnostic-dataset) by training a model using [decision trees](https://scikit-learn.org/stable/modules/tree.html)."
   ]
  },
  {
   "cell_type": "markdown",
   "metadata": {},
   "source": [
    "**1.1** Load the breast cancer dataset using the scikit learn library and split the dataset into train and test set using the appropriate function. Use 30% of the dataset as the test set. Define as X the attributes and as y the target values. Do not forget to set the random_state parameter as the *RANDOM_VARIABLE* defined above. Use this variable for all the random_state parameters in this assignment."
   ]
  },
  {
   "cell_type": "code",
   "execution_count": 3,
   "metadata": {
    "deletable": false,
    "nbgrader": {
     "cell_type": "code",
     "checksum": "4b873328ea05f6ef9c08827168c7b835",
     "grade": false,
     "grade_id": "cell-1f0c2f3918333cf6",
     "locked": false,
     "schema_version": 3,
     "solution": true,
     "task": false
    }
   },
   "outputs": [],
   "source": [
    "# BEGIN CODE HERE\n",
    "cancer_data = load_breast_cancer()\n",
    "X,y = cancer_data.data, cancer_data.target\n",
    "X_train,X_test,y_train,y_test = train_test_split(X, y, test_size=0.3, random_state=RANDOM_VARIABLE) \n",
    "\n",
    "#END CODE HERE"
   ]
  },
  {
   "cell_type": "code",
   "execution_count": 4,
   "metadata": {
    "deletable": false,
    "editable": false,
    "nbgrader": {
     "cell_type": "code",
     "checksum": "3603b2ba8916ffdad9e9c53f31546b4c",
     "grade": true,
     "grade_id": "cell-3f43c895ceaf57a9",
     "locked": true,
     "points": 2,
     "schema_version": 3,
     "solution": false,
     "task": false
    }
   },
   "outputs": [
    {
     "name": "stdout",
     "output_type": "stream",
     "text": [
      "Size of train set:398\n",
      "Size of test set:171\n",
      "Unique classes:2\n"
     ]
    }
   ],
   "source": [
    "print(\"Size of train set:{}\".format(len(y_train)))\n",
    "print(\"Size of test set:{}\".format(len(y_test)))\n",
    "print(\"Unique classes:{}\".format(len(set(y_test))))"
   ]
  },
  {
   "cell_type": "markdown",
   "metadata": {
    "deletable": false,
    "editable": false,
    "nbgrader": {
     "cell_type": "markdown",
     "checksum": "62285a7bd3ab59718b89f7e09de0fea4",
     "grade": false,
     "grade_id": "cell-1ce621a108e76a15",
     "locked": true,
     "schema_version": 3,
     "solution": false,
     "task": false
    }
   },
   "source": [
    "**Expected output**:  \n",
    "Size of train set:398  \n",
    "Size of test set:171  \n",
    "Unique classes:2  "
   ]
  },
  {
   "cell_type": "markdown",
   "metadata": {},
   "source": [
    "**1.2** Train two DecisionTree classifiers and report the F1 score. Use the information gain for the one classifier and the Gini impurity for the other"
   ]
  },
  {
   "cell_type": "code",
   "execution_count": 5,
   "metadata": {
    "deletable": false,
    "nbgrader": {
     "cell_type": "code",
     "checksum": "17197b62614427a979fcbab7ed2734dd",
     "grade": false,
     "grade_id": "cell-a7fa1d29509eb2a1",
     "locked": false,
     "schema_version": 3,
     "solution": true,
     "task": false
    }
   },
   "outputs": [],
   "source": [
    "# BEGIN CODE HERE\n",
    "classifier_gini = DecisionTreeClassifier(criterion=\"gini\", random_state=RANDOM_VARIABLE)\n",
    "classifier_igain = DecisionTreeClassifier(criterion=\"entropy\", random_state=RANDOM_VARIABLE)\n",
    "\n",
    "classifier_gini.fit(X_train, y_train)\n",
    "classifier_igain.fit(X_train, y_train)\n",
    "\n",
    "prediction_gini = classifier_gini.predict(X_test)\n",
    "prediction_igain = classifier_igain.predict(X_test)\n",
    "\n",
    "f_measure_gini = f1_score(y_test, prediction_gini)\n",
    "f_measure_igain = f1_score(y_test, prediction_igain)\n",
    "\n",
    "#END CODE HERE"
   ]
  },
  {
   "cell_type": "code",
   "execution_count": 6,
   "metadata": {
    "deletable": false,
    "editable": false,
    "nbgrader": {
     "cell_type": "code",
     "checksum": "6d9aab4355c27c346f7e6548f233e758",
     "grade": true,
     "grade_id": "cell-09657a82bf4028c4",
     "locked": true,
     "points": 3,
     "schema_version": 3,
     "solution": false,
     "task": false
    }
   },
   "outputs": [
    {
     "name": "stdout",
     "output_type": "stream",
     "text": [
      "F-Measure Gini:0.9528301886792453\n",
      "F-Measure Information Gain:0.9724770642201834\n"
     ]
    }
   ],
   "source": [
    "print(\"F-Measure Gini:{}\".format(f_measure_gini))\n",
    "print(\"F-Measure Information Gain:{}\".format(f_measure_igain))"
   ]
  },
  {
   "cell_type": "markdown",
   "metadata": {
    "deletable": false,
    "editable": false,
    "nbgrader": {
     "cell_type": "markdown",
     "checksum": "f3facbbef0dd8f25ad12bfec7c174818",
     "grade": false,
     "grade_id": "cell-b0d8630f3b764cf3",
     "locked": true,
     "schema_version": 3,
     "solution": false,
     "task": false
    }
   },
   "source": [
    "**Expected output**:  \n",
    "F-Measure Gini:0.9528301886792453  \n",
    "F-Measure Information Gain:0.9724770642201834  \n"
   ]
  },
  {
   "cell_type": "markdown",
   "metadata": {
    "deletable": false,
    "editable": false,
    "nbgrader": {
     "cell_type": "markdown",
     "checksum": "f2532168d16e8c9bffba3d7d8e1efce7",
     "grade": false,
     "grade_id": "cell-591ba122016b6db5",
     "locked": true,
     "schema_version": 3,
     "solution": false,
     "task": false
    }
   },
   "source": [
    "**1.3** Find the maximum depth reached by the tree that used the Gini impurity. Train multiple classifier by modifying the max_depth within the range from 1 to maximum depth and save the f1 scores to lists.  "
   ]
  },
  {
   "cell_type": "code",
   "execution_count": 7,
   "metadata": {
    "deletable": false,
    "nbgrader": {
     "cell_type": "code",
     "checksum": "54cf257e90a3cb5877db81297bedd45c",
     "grade": false,
     "grade_id": "cell-31c58b6161a3907d",
     "locked": false,
     "schema_version": 3,
     "solution": true,
     "task": false
    }
   },
   "outputs": [],
   "source": [
    "# BEGIN CODE HERE\n",
    "depth = list(range(1, classifier_gini.get_depth()+1)) # lista me ta max_depth pou tha testarw\n",
    "fscores_train = [f1_score(y_train, DecisionTreeClassifier(criterion=\"gini\", random_state=RANDOM_VARIABLE, max_depth=i).fit(X_train, y_train).predict(X_train)) for i in depth]\n",
    "fscores_test = [f1_score(y_test, DecisionTreeClassifier(criterion=\"gini\", random_state=RANDOM_VARIABLE, max_depth=i).fit(X_train, y_train).predict(X_test)) for i in depth]\n",
    "\n",
    "#END CODE HERE"
   ]
  },
  {
   "cell_type": "code",
   "execution_count": 8,
   "metadata": {
    "deletable": false,
    "editable": false,
    "nbgrader": {
     "cell_type": "code",
     "checksum": "70a249937f2f690c6ce855debaed204c",
     "grade": true,
     "grade_id": "cell-0c300109423f53b9",
     "locked": true,
     "points": 5,
     "schema_version": 3,
     "solution": false,
     "task": false
    }
   },
   "outputs": [
    {
     "name": "stdout",
     "output_type": "stream",
     "text": [
      "Fscores Train:[0.9392712550607287, 0.9533468559837729, 0.9761904761904762, 0.996, 0.996, 0.9979959919839679, 1.0]\n",
      "Fscores Test:[0.9150943396226415, 0.9444444444444444, 0.9724770642201834, 0.9629629629629629, 0.9629629629629629, 0.9674418604651163, 0.9528301886792453]\n"
     ]
    }
   ],
   "source": [
    "print(\"Fscores Train:{}\".format(fscores_train))\n",
    "print(\"Fscores Test:{}\".format(fscores_test))\n"
   ]
  },
  {
   "cell_type": "markdown",
   "metadata": {
    "deletable": false,
    "editable": false,
    "nbgrader": {
     "cell_type": "markdown",
     "checksum": "3db472d2b9db7a42cc012cd96fdeb499",
     "grade": false,
     "grade_id": "cell-75789627f20d2c94",
     "locked": true,
     "schema_version": 3,
     "solution": false,
     "task": false
    }
   },
   "source": [
    "**Expected output**:  \n",
    "Fscores Train:[0.9392712550607287, 0.9533468559837729, 0.9761904761904762, 0.996, 0.996, 0.9979959919839679, 1.0]  \n",
    "Fscores Test:[0.9150943396226415, 0.9444444444444444, 0.9724770642201834, 0.9629629629629629, 0.9629629629629629, 0.9674418604651163, 0.9528301886792453]\n",
    "\n"
   ]
  },
  {
   "cell_type": "markdown",
   "metadata": {
    "deletable": false,
    "editable": false,
    "nbgrader": {
     "cell_type": "markdown",
     "checksum": "bca7d4c160c767d27a09b4620d27d56e",
     "grade": false,
     "grade_id": "cell-5906e6d5efa70282",
     "locked": true,
     "schema_version": 3,
     "solution": false,
     "task": false
    }
   },
   "source": [
    "**1.4** Compare the results from the train set with the results from the test set. What do you notice? Explain your findings. How are you going to choose the max_depth of your model?"
   ]
  },
  {
   "cell_type": "markdown",
   "metadata": {
    "deletable": false,
    "nbgrader": {
     "cell_type": "markdown",
     "checksum": "424ac10e4e22ca9e32207deee3bf0f57",
     "grade": true,
     "grade_id": "cell-c9c6ea0e40d98b83",
     "locked": false,
     "points": 5,
     "schema_version": 3,
     "solution": true,
     "task": false
    }
   },
   "source": [
    "YOUR ANSWER HERE na grapsw oti stamatas sto max_depth=3 giati meta kanei overtrain"
   ]
  },
  {
   "cell_type": "markdown",
   "metadata": {
    "deletable": false,
    "editable": false,
    "nbgrader": {
     "cell_type": "markdown",
     "checksum": "217666fcc2e383d6f2c1904c9d6a71be",
     "grade": false,
     "grade_id": "cell-9ef42e6c90ea2ffe",
     "locked": true,
     "schema_version": 3,
     "solution": false,
     "task": false
    }
   },
   "source": [
    "## 2.0 Pipelines ##\n",
    "\n",
    "**2.1** In this part of the exercise you are going to build a pipeline from scratch for a classification problem. Load the **income.csv** file and train a DecisionTree model that will predict the *income* variable. This dataset is a modification of the original Adult Income dataset found [here](http://archive.ics.uci.edu/ml/datasets/Adult). Report the f1-score and accuracy score of the test set found in **income_test.csv**. Your pipeline should be able to handle missing values and categorical features (scikit-learn's decision trees do not handle categorical values). You can preprocess the dataset as you like in order to achieve higher scores.  "
   ]
  },
  {
   "cell_type": "code",
   "execution_count": 9,
   "metadata": {
    "deletable": false,
    "nbgrader": {
     "cell_type": "code",
     "checksum": "152ab2dd6861b198b879a78ebadc4ee4",
     "grade": true,
     "grade_id": "cell-dd950ab2eb40d8a4",
     "locked": false,
     "points": 45,
     "schema_version": 3,
     "solution": true,
     "task": false
    }
   },
   "outputs": [
    {
     "name": "stdout",
     "output_type": "stream",
     "text": [
      "Best Fscore for Test dataset is: 0.6706319702602231\n",
      "And its index is: 9\n",
      "F-Measure Gini:0.6456569457510192\n",
      "Train Accuracy Gini:0.8602773618074093\n",
      "Test Accuracy Gini:0.8524322559582109\n"
     ]
    }
   ],
   "source": [
    "# BEGIN CODE HERE\n",
    "from sklearn.preprocessing import OneHotEncoder\n",
    "from sklearn.preprocessing import LabelEncoder\n",
    "\n",
    "train_data = pd.read_csv(\"income.csv\")\n",
    "test_data = pd.read_csv(\"income_test.csv\")\n",
    "###########################################################################################################################\n",
    "train_data = train_data[~train_data.isna().any(axis=1)] #diwxnw ta data pou leipoun times apo to workclass kai to occupation\n",
    "train_data = train_data.reset_index(drop=True) #reset to index \n",
    "# train_data\n",
    "train_data = train_data.replace(\"<=50K\", 0) # income --> 0,1 \n",
    "train_data = train_data.replace(\">50K\", 1)\n",
    "train_data = train_data.replace(\"Female\", 0)    # sex--> 0,1\n",
    "train_data = train_data.replace(\"Male\", 1)\n",
    "# test_data\n",
    "test_data = test_data.replace(\"<=50K\", 0) # income --> 0,1 \n",
    "test_data = test_data.replace(\">50K\", 1)\n",
    "test_data = test_data.replace(\"Female\", 0)  # sex--> 0,1\n",
    "test_data = test_data.replace(\"Male\", 1)\n",
    "# final_train_test_data\n",
    "final_train_data_Y = train_data[\"income\"]\n",
    "final_test_data_Y = test_data[\"income\"]\n",
    "final_train_data = train_data.drop([\"income\"], axis=1)\n",
    "final_test_data = test_data.drop([\"income\"], axis=1)\n",
    "\n",
    "# one-hot encode categorical data\n",
    "final_train_data = final_train_data.select_dtypes(exclude=[object])\n",
    "final_test_data = final_test_data.select_dtypes(exclude=[object])\n",
    "\n",
    "object_columns = train_data.select_dtypes(include=[object]).columns\n",
    "\n",
    "for i in object_columns: # build train data\n",
    "    encoder = LabelEncoder()\n",
    "    label_encoded = encoder.fit_transform(train_data[i])  # Never-worked den exei pouthena\n",
    "    encoder_1hot = OneHotEncoder()\n",
    "    label_encoded_1hot = encoder_1hot.fit_transform(label_encoded.reshape(-1,1))\n",
    "    columns = encoder.classes_\n",
    "    temp_df = pd.DataFrame(data=label_encoded_1hot.toarray(), columns=columns)\n",
    "    final_train_data = pd.concat([final_train_data, temp_df], axis=1)\n",
    "\n",
    "for i in object_columns: # build test data\n",
    "    encoder = LabelEncoder()\n",
    "    label_encoded = encoder.fit_transform(test_data[i])  # Never-worked den exei pouthena\n",
    "    encoder_1hot = OneHotEncoder()\n",
    "    label_encoded_1hot = encoder_1hot.fit_transform(label_encoded.reshape(-1,1))\n",
    "    columns = encoder.classes_\n",
    "    temp_df = pd.DataFrame(data=label_encoded_1hot.toarray(), columns=columns)\n",
    "    final_test_data = pd.concat([final_test_data, temp_df], axis=1)\n",
    "\n",
    "\n",
    "# peirama opws kai sto vima 1 gia na vroume to veltisto max_depth gia na mhn ginetai overfitting\n",
    "classifier_gini = DecisionTreeClassifier(criterion=\"gini\", random_state=RANDOM_VARIABLE) \n",
    "classifier_gini.fit(final_train_data, final_train_data_Y)\n",
    "depth = list(range(1, classifier_gini.get_depth()+1)) # lista me ta max_depth pou tha testarw\n",
    "fscores_train = [f1_score(final_train_data_Y, DecisionTreeClassifier(criterion=\"gini\", random_state=RANDOM_VARIABLE, max_depth=i).fit(final_train_data, final_train_data_Y).predict(final_train_data)) for i in depth]\n",
    "fscores_test = [f1_score(final_test_data_Y, DecisionTreeClassifier(criterion=\"gini\", random_state=RANDOM_VARIABLE, max_depth=i).fit(final_train_data, final_train_data_Y).predict(final_test_data)) for i in depth]\n",
    "\n",
    "# print(\"Fscores Train:{}\".format(fscores_train))\n",
    "# print(\"Fscores Test:{}\".format(fscores_test))\n",
    "print(\"Best Fscore for Test dataset is: {}\".format(max(fscores_test)))\n",
    "print(\"And its index is: {}\".format(fscores_test.index(max(fscores_test))))\n",
    "\n",
    "# epilegw max_depth=9\n",
    "classifier_gini = DecisionTreeClassifier(criterion=\"gini\", random_state=RANDOM_VARIABLE, max_depth=9) \n",
    "classifier_gini.fit(final_train_data, final_train_data_Y)\n",
    "prediction_gini = classifier_gini.predict(final_test_data)\n",
    "f_measure_gini = f1_score(final_test_data_Y, prediction_gini)\n",
    "accuracy_train_gini = classifier_gini.score(final_train_data, final_train_data_Y)\n",
    "accuracy_test_gini = classifier_gini.score(final_test_data, final_test_data_Y)\n",
    "\n",
    "print(\"F-Measure Gini:{}\".format(f_measure_gini))\n",
    "print(\"Train Accuracy Gini:{}\".format(accuracy_train_gini))\n",
    "print(\"Test Accuracy Gini:{}\".format(accuracy_test_gini))\n",
    "\n",
    "\n",
    "\n",
    "fScore = f_measure_gini\n",
    "accScore = accuracy_test_gini\n",
    "\n",
    "#END CODE HERE"
   ]
  },
  {
   "cell_type": "markdown",
   "metadata": {
    "deletable": false,
    "editable": false,
    "nbgrader": {
     "cell_type": "markdown",
     "checksum": "ee9d4c2635307395bdef2efb941106ae",
     "grade": false,
     "grade_id": "cell-2c3327274958bbad",
     "locked": true,
     "schema_version": 3,
     "solution": false,
     "task": false
    }
   },
   "source": [
    "**2.2** Describe the process you followed to achieve the results above. Your description should include, but is not limited to the following \n",
    "- How do you handle missing values and why\n",
    "- How do you handle categorical variables and why\n",
    "- Any further preprocessing steps\n",
    "- How do you evaluate your model and how did you choose its parameters \n",
    "- Report any additional results and comments on your approach."
   ]
  },
  {
   "cell_type": "markdown",
   "metadata": {
    "deletable": false,
    "nbgrader": {
     "cell_type": "markdown",
     "checksum": "1aaf3ddda45b52c2e43089b082d030f1",
     "grade": true,
     "grade_id": "cell-80274fd09b80518c",
     "locked": false,
     "points": 20,
     "schema_version": 3,
     "solution": true,
     "task": false
    }
   },
   "source": [
    "YOUR ANSWER HERE"
   ]
  },
  {
   "cell_type": "markdown",
   "metadata": {
    "deletable": false,
    "editable": false,
    "nbgrader": {
     "cell_type": "markdown",
     "checksum": "8cef3f333ab449ed91b81ea96695e712",
     "grade": false,
     "grade_id": "cell-555d20216f9bbec2",
     "locked": true,
     "schema_version": 3,
     "solution": false,
     "task": false
    }
   },
   "source": [
    "## 3.0 Common Issues ## "
   ]
  },
  {
   "cell_type": "markdown",
   "metadata": {},
   "source": [
    "**3.0** Run the following code to define a DecisionTreeModel and load the **income** dataset only with the numerical variables. Then, answer the following questions. "
   ]
  },
  {
   "cell_type": "code",
   "execution_count": 14,
   "metadata": {
    "deletable": false,
    "editable": false,
    "nbgrader": {
     "cell_type": "code",
     "checksum": "ae0f57b86252cc38b02cac3d05e08bbf",
     "grade": false,
     "grade_id": "cell-d7f58621bad12aad",
     "locked": true,
     "schema_version": 3,
     "solution": false,
     "task": false
    }
   },
   "outputs": [],
   "source": [
    "# Load Data\n",
    "columns = ['age','fnlwgt','education_num','hours-per-week',\"capital-loss\",\"capital-gain\",\"income\"]\n",
    "data = pd.read_csv('income.csv',usecols=columns)\n",
    "data_test = pd.read_csv('income_test.csv',usecols=columns)\n",
    "# Convert target variable to 0 and 1\n",
    "data[\"income\"] = data[\"income\"].map({ \"<=50K\": 0, \">50K\": 1 })\n",
    "data_test[\"income\"] = data_test[\"income\"].map({ \"<=50K\": 0, \">50K\": 1 })\n",
    "# Create X and y\n",
    "X_train = data.drop([\"income\"],axis=1)\n",
    "y_train = data['income'].values\n",
    "X_test = data_test.drop([\"income\"],axis=1)\n",
    "y_test = data_test['income'].values\n",
    "# Classifier\n",
    "classifier = DecisionTreeClassifier(min_samples_leaf=4)"
   ]
  },
  {
   "cell_type": "markdown",
   "metadata": {
    "deletable": false,
    "editable": false,
    "nbgrader": {
     "cell_type": "markdown",
     "checksum": "c3981752b539236e99415ab6e2cbea1f",
     "grade": false,
     "grade_id": "cell-9b18d6c4e381a9f5",
     "locked": true,
     "schema_version": 3,
     "solution": false,
     "task": false
    }
   },
   "source": [
    "**3.1** Draw a learning curve for the classifer for the train and test set loaded above."
   ]
  },
  {
   "cell_type": "code",
   "execution_count": 11,
   "metadata": {
    "deletable": false,
    "nbgrader": {
     "cell_type": "code",
     "checksum": "12b88026c150b617074a5c06fea36b73",
     "grade": true,
     "grade_id": "cell-905e7dceeb4172c3",
     "locked": false,
     "points": 5,
     "schema_version": 3,
     "solution": true,
     "task": false
    }
   },
   "outputs": [
    {
     "data": {
      "image/png": "[encoded data removed]",
      "text/plain": [
       "<Figure size 432x288 with 1 Axes>"
      ]
     },
     "metadata": {
      "needs_background": "light"
     },
     "output_type": "display_data"
    }
   ],
   "source": [
    "# BEGIN CODE HERE\n",
    "import matplotlib.pyplot as plt\n",
    "from sklearn.model_selection import StratifiedShuffleSplit\n",
    "\n",
    "def learning_curve(estimator, X_train, y_train, X_test, y_test):\n",
    "    f_score_train = []\n",
    "    f_score_test = []\n",
    "    acc_train = []\n",
    "    acc_test = []\n",
    "    test_sizes_list = []\n",
    "    max_depth = []\n",
    "    \n",
    "    test_sizes = np.arange(0.05, 1, 0.05).round(2)\n",
    "    \n",
    "    for i in test_sizes:\n",
    "        # print(i)\n",
    "        cv = StratifiedShuffleSplit(n_splits=5, train_size=i, random_state=42)\n",
    "        for train_index, test_index in cv.split(X_train, y_train):\n",
    "            test_sizes_list.append(X_train.iloc[train_index,:].shape[0])\n",
    "            temp_estimator = estimator\n",
    "            temp_estimator.fit(X_train.iloc[train_index,:], y_train[train_index])\n",
    "            prediction_test = temp_estimator.predict(X_test)\n",
    "            prediction_train = temp_estimator.predict(X_train.iloc[train_index,:])\n",
    "            f_score_train.append(f1_score(y_train[train_index], prediction_train))\n",
    "            f_score_test.append(f1_score(y_test, prediction_test))\n",
    "            acc_train.append(temp_estimator.score(X_train.iloc[train_index,:], y_train[train_index]))\n",
    "            acc_test.append(temp_estimator.score(X_test, y_test))\n",
    "            max_depth.append(temp_estimator.get_depth())\n",
    "            # print(max_depth)\n",
    "            \n",
    "            \n",
    "    # vlepw max_depth apo oles tis epanlipseis gia na kanw to erwtima 3.3\n",
    "    max_depth = np.array(max_depth)\n",
    "    max_depth = max_depth.reshape((-1,5))\n",
    "    max_depth_mean = np.mean(max_depth, axis=1)\n",
    "    # print(max_depth)\n",
    "    \n",
    "    test_sizes_list = np.array(test_sizes_list)\n",
    "    test_sizes_list = np.unique(test_sizes_list)\n",
    "    #reshape\n",
    "    f_score_train = np.array(f_score_train)\n",
    "    f_score_train = f_score_train.reshape((-1,5))\n",
    "    f_score_test = np.array(f_score_test)\n",
    "    f_score_test = f_score_test.reshape((-1,5))\n",
    "    acc_train = np.array(acc_train)\n",
    "    acc_train = acc_train.reshape((-1,5))\n",
    "    acc_test = np.array(acc_test)\n",
    "    acc_test = acc_test.reshape((-1,5))\n",
    "    \n",
    "    f_scores_train_mean = np.mean(f_score_train, axis=1)\n",
    "    f_scores_train_std = np.std(f_score_train, axis=1)\n",
    "    f_scores_test_mean = np.mean(f_score_test, axis=1)\n",
    "    f_scores_test_std = np.std(f_score_test, axis=1)\n",
    "    acc_train_mean = np.mean(acc_train, axis=1)\n",
    "    acc_train_std = np.std(acc_train, axis=1)\n",
    "    acc_test_mean = np.mean(acc_test, axis=1)\n",
    "    acc_test_std =np.std(acc_test, axis=1)\n",
    "            \n",
    "    # plots\n",
    "    plt.figure()\n",
    "    plt.fill_between(test_sizes_list, acc_train_mean - acc_train_std, acc_train_mean + acc_train_std, alpha=0.1, color=\"r\")\n",
    "    plt.fill_between(test_sizes_list, acc_test_mean - acc_test_std, acc_test_mean + acc_test_std, alpha=0.1, color=\"blue\")\n",
    "    plt.plot(test_sizes_list,acc_test_mean, \"x-\", color=\"blue\", label=\"testing set\")\n",
    "    plt.plot(test_sizes_list, acc_train_mean, \"o-\", color=\"r\", label=\"training set\")\n",
    "    plt.title(\"Learning curve\")\n",
    "    plt.grid(True)\n",
    "    plt.xlabel(\"Number of data\", color=\"green\")\n",
    "    plt.ylabel(\"Accuracy score\", color=\"green\")\n",
    "    # plt.ylim([0.6, 1.1])\n",
    "    # plt.yticks(np.arange(0.6,1.1,0.1))\n",
    "    plt.legend(loc=\"best\")\n",
    "\n",
    "\n",
    "    \n",
    "learning_curve(estimator=classifier,X_train=X_train, y_train=y_train, X_test=X_test, y_test=y_test)\n",
    "\n",
    "    \n",
    "#END CODE HERE"
   ]
  },
  {
   "cell_type": "markdown",
   "metadata": {
    "deletable": false,
    "editable": false,
    "nbgrader": {
     "cell_type": "markdown",
     "checksum": "361d4753f3c8491a34ff55b6fa3a49b5",
     "grade": false,
     "grade_id": "cell-1f23f3e27600f019",
     "locked": true,
     "schema_version": 3,
     "solution": false,
     "task": false
    }
   },
   "source": [
    "**3.2** Do you notice any problems with the classifier? If so, what can you do to change this."
   ]
  },
  {
   "cell_type": "markdown",
   "metadata": {
    "deletable": false,
    "nbgrader": {
     "cell_type": "markdown",
     "checksum": "baff993106fd2b655fd47d05c75ea4ce",
     "grade": true,
     "grade_id": "cell-d60d7e6175d184e9",
     "locked": false,
     "points": 5,
     "schema_version": 3,
     "solution": true,
     "task": false
    }
   },
   "source": [
    "YOUR ANSWER HERE"
   ]
  },
  {
   "cell_type": "markdown",
   "metadata": {
    "deletable": false,
    "editable": false,
    "nbgrader": {
     "cell_type": "markdown",
     "checksum": "747645b33cb4f5c14796504fac6bf3ce",
     "grade": false,
     "grade_id": "cell-89715acd6c51b332",
     "locked": true,
     "schema_version": 3,
     "solution": false,
     "task": false
    }
   },
   "source": [
    "**3.3** Implement your solution using the cells below. Report your results and the process you followed. "
   ]
  },
  {
   "cell_type": "code",
   "execution_count": 43,
   "metadata": {
    "deletable": false,
    "nbgrader": {
     "cell_type": "code",
     "checksum": "ccd1d12620f1a3e1c7b026b862056546",
     "grade": true,
     "grade_id": "cell-f44811f1e99ee41e",
     "locked": false,
     "points": 5,
     "schema_version": 3,
     "solution": true,
     "task": false
    }
   },
   "outputs": [
    {
     "name": "stdout",
     "output_type": "stream",
     "text": [
      "Basic classifier with min_samples_leaf=4 and max_depth=10\n",
      "Final accuracy score is: 0.8256611165523996\n",
      "Final f1_score is: 0.5569200132758049\n"
     ]
    },
    {
     "data": {
      "image/png": "[encoded data removed]",
      "text/plain": [
       "<Figure size 432x288 with 1 Axes>"
      ]
     },
     "metadata": {
      "needs_background": "light"
     },
     "output_type": "display_data"
    }
   ],
   "source": [
    "# BEGIN CODE HERE\n",
    "print(\"Basic classifier with min_samples_leaf=4 and max_depth=10\")\n",
    "classifier = DecisionTreeClassifier(min_samples_leaf=4, max_depth=10,random_state=RANDOM_VARIABLE)\n",
    "learning_curve(estimator=classifier,X_train=X_train, y_train=y_train, X_test=X_test, y_test=y_test)\n",
    "\n",
    "\n",
    "prediction = classifier.fit(X_train, y_train).predict(X_test)\n",
    "final_score = classifier.score(X_test, y_test)\n",
    "final_f1_score = f1_score(y_test, prediction)\n",
    "print(\"Final accuracy score is: {}\\nFinal f1_score is: {}\".format(final_score,final_f1_score))\n",
    "\n",
    "#END CODE HERE"
   ]
  },
  {
   "cell_type": "markdown",
   "metadata": {
    "deletable": false,
    "nbgrader": {
     "cell_type": "markdown",
     "checksum": "b26041c1723d2858ad0833f8985801db",
     "grade": true,
     "grade_id": "cell-c99ca88f33f3717c",
     "locked": false,
     "points": 5,
     "schema_version": 3,
     "solution": true,
     "task": false
    }
   },
   "source": [
    "YOUR ANSWER HERE"
   ]
  }
 ],
 "metadata": {
  "kernelspec": {
   "display_name": "Python 3",
   "language": "python",
   "name": "python3"
  },
  "language_info": {
   "codemirror_mode": {
    "name": "ipython",
    "version": 3
   },
   "file_extension": ".py",
   "mimetype": "text/x-python",
   "name": "python",
   "nbconvert_exporter": "python",
   "pygments_lexer": "ipython3",
   "version": "3.8.5"
  },
  "pycharm": {
   "stem_cell": {
    "cell_type": "raw",
    "metadata": {
     "collapsed": false
    },
    "source": []
   }
  }
 },
 "nbformat": 4,
 "nbformat_minor": 4
}
